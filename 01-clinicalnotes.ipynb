{
 "cells": [
  {
   "cell_type": "code",
   "execution_count": 4,
   "metadata": {},
   "outputs": [],
   "source": [
    "import os\n",
    "import pandas as pd \n",
    "import numpy as np"
   ]
  },
  {
   "cell_type": "code",
   "execution_count": 5,
   "metadata": {},
   "outputs": [],
   "source": [
    "DATA_FILEPATH     = './data/all_hourly_data.h5'\n",
    "NOTES_FILEPATH     = './data/notes/'\n",
    "GAP_TIME          = 6  # In hours\n",
    "WINDOW_SIZE       = 24 # In hours\n",
    "SEED              = 1\n",
    "ID_COLS           = ['subject_id', 'hadm_id', 'icustay_id']"
   ]
  },
  {
   "cell_type": "code",
   "execution_count": 6,
   "metadata": {},
   "outputs": [],
   "source": [
    "notes_files = [os.path.join(NOTES_FILEPATH,file) for file in os.listdir(os.path.join(NOTES_FILEPATH))]"
   ]
  },
  {
   "cell_type": "code",
   "execution_count": 7,
   "metadata": {},
   "outputs": [
    {
     "data": {
      "text/plain": [
       "(34472, 31)"
      ]
     },
     "execution_count": 7,
     "metadata": {},
     "output_type": "execute_result"
    }
   ],
   "source": [
    "patients = pd.read_hdf(DATA_FILEPATH, 'patients').reset_index()\n",
    "patients.shape"
   ]
  },
  {
   "cell_type": "code",
   "execution_count": 8,
   "metadata": {},
   "outputs": [
    {
     "data": {
      "text/plain": [
       "(23944, 31)"
      ]
     },
     "execution_count": 8,
     "metadata": {},
     "output_type": "execute_result"
    }
   ],
   "source": [
    "patients = patients[patients.max_hours > WINDOW_SIZE + GAP_TIME]\n",
    "patients.shape"
   ]
  },
  {
   "cell_type": "code",
   "execution_count": 10,
   "metadata": {},
   "outputs": [
    {
     "data": {
      "text/plain": [
       "(2083180, 11)"
      ]
     },
     "execution_count": 10,
     "metadata": {},
     "output_type": "execute_result"
    }
   ],
   "source": [
    "notes_df = pd.concat((pd.read_csv(f,delimiter=';') for f in notes_files), ignore_index=True)\n",
    "notes_df.shape"
   ]
  },
  {
   "cell_type": "code",
   "execution_count": 11,
   "metadata": {},
   "outputs": [
    {
     "data": {
      "text/plain": [
       "Index(['ROW_ID', 'SUBJECT_ID', 'HADM_ID', 'CHARTDATE', 'CHARTTIME',\n",
       "       'STORETIME', 'CATEGORY', 'DESCRIPTION', 'CGID', 'ISERROR', 'TEXT'],\n",
       "      dtype='object')"
      ]
     },
     "execution_count": 11,
     "metadata": {},
     "output_type": "execute_result"
    }
   ],
   "source": [
    "notes_df.columns"
   ]
  },
  {
   "cell_type": "code",
   "execution_count": 12,
   "metadata": {},
   "outputs": [
    {
     "data": {
      "text/plain": [
       "Index(['subject_id', 'hadm_id', 'icustay_id', 'gender', 'ethnicity', 'age',\n",
       "       'insurance', 'admittime', 'diagnosis_at_admission', 'dischtime',\n",
       "       'discharge_location', 'fullcode_first', 'dnr_first', 'fullcode', 'dnr',\n",
       "       'dnr_first_charttime', 'cmo_first', 'cmo_last', 'cmo', 'deathtime',\n",
       "       'intime', 'outtime', 'los_icu', 'admission_type', 'first_careunit',\n",
       "       'mort_icu', 'mort_hosp', 'hospital_expire_flag', 'hospstay_seq',\n",
       "       'readmission_30', 'max_hours'],\n",
       "      dtype='object')"
      ]
     },
     "execution_count": 12,
     "metadata": {},
     "output_type": "execute_result"
    }
   ],
   "source": [
    "patients.columns"
   ]
  },
  {
   "cell_type": "code",
   "execution_count": 40,
   "metadata": {},
   "outputs": [
    {
     "name": "stdout",
     "output_type": "stream",
     "text": [
      "23944\n"
     ]
    }
   ],
   "source": [
    "patient_notes = patients.merge(notes_df[['SUBJECT_ID','HADM_ID','CHARTDATE', 'CHARTTIME','CATEGORY','TEXT']],\n",
    "                                          right_on=['SUBJECT_ID','HADM_ID'],\n",
    "                                            left_on=['subject_id','hadm_id'],how='left')\n",
    "print(patient_notes['subject_id'].nunique())\n"
   ]
  },
  {
   "cell_type": "code",
   "execution_count": 41,
   "metadata": {},
   "outputs": [
    {
     "data": {
      "text/html": [
       "<div>\n",
       "<style scoped>\n",
       "    .dataframe tbody tr th:only-of-type {\n",
       "        vertical-align: middle;\n",
       "    }\n",
       "\n",
       "    .dataframe tbody tr th {\n",
       "        vertical-align: top;\n",
       "    }\n",
       "\n",
       "    .dataframe thead th {\n",
       "        text-align: right;\n",
       "    }\n",
       "</style>\n",
       "<table border=\"1\" class=\"dataframe\">\n",
       "  <thead>\n",
       "    <tr style=\"text-align: right;\">\n",
       "      <th></th>\n",
       "      <th>subject_id</th>\n",
       "      <th>hadm_id</th>\n",
       "      <th>icustay_id</th>\n",
       "      <th>gender</th>\n",
       "      <th>ethnicity</th>\n",
       "      <th>age</th>\n",
       "      <th>insurance</th>\n",
       "      <th>admittime</th>\n",
       "      <th>diagnosis_at_admission</th>\n",
       "      <th>dischtime</th>\n",
       "      <th>...</th>\n",
       "      <th>hospital_expire_flag</th>\n",
       "      <th>hospstay_seq</th>\n",
       "      <th>readmission_30</th>\n",
       "      <th>max_hours</th>\n",
       "      <th>SUBJECT_ID</th>\n",
       "      <th>HADM_ID</th>\n",
       "      <th>CHARTDATE</th>\n",
       "      <th>CHARTTIME</th>\n",
       "      <th>CATEGORY</th>\n",
       "      <th>TEXT</th>\n",
       "    </tr>\n",
       "  </thead>\n",
       "  <tbody>\n",
       "    <tr>\n",
       "      <th>0</th>\n",
       "      <td>3</td>\n",
       "      <td>145834</td>\n",
       "      <td>211552</td>\n",
       "      <td>M</td>\n",
       "      <td>WHITE</td>\n",
       "      <td>76.526792</td>\n",
       "      <td>Medicare</td>\n",
       "      <td>2101-10-20 19:08:00</td>\n",
       "      <td>HYPOTENSION</td>\n",
       "      <td>2101-10-31 13:58:00</td>\n",
       "      <td>...</td>\n",
       "      <td>0</td>\n",
       "      <td>1</td>\n",
       "      <td>0</td>\n",
       "      <td>145</td>\n",
       "      <td>3.0</td>\n",
       "      <td>145834.0</td>\n",
       "      <td>2101-10-23</td>\n",
       "      <td>2101-10-23 17:06:00</td>\n",
       "      <td>Nursing/other</td>\n",
       "      <td>Respiratory Care Note:\\n\\nPt received on A/C a...</td>\n",
       "    </tr>\n",
       "    <tr>\n",
       "      <th>1</th>\n",
       "      <td>3</td>\n",
       "      <td>145834</td>\n",
       "      <td>211552</td>\n",
       "      <td>M</td>\n",
       "      <td>WHITE</td>\n",
       "      <td>76.526792</td>\n",
       "      <td>Medicare</td>\n",
       "      <td>2101-10-20 19:08:00</td>\n",
       "      <td>HYPOTENSION</td>\n",
       "      <td>2101-10-31 13:58:00</td>\n",
       "      <td>...</td>\n",
       "      <td>0</td>\n",
       "      <td>1</td>\n",
       "      <td>0</td>\n",
       "      <td>145</td>\n",
       "      <td>3.0</td>\n",
       "      <td>145834.0</td>\n",
       "      <td>2101-10-20</td>\n",
       "      <td>2101-10-20 22:23:00</td>\n",
       "      <td>Radiology</td>\n",
       "      <td>[**2101-10-20**] 10:23 PM\\n CHEST (PORTABLE AP...</td>\n",
       "    </tr>\n",
       "    <tr>\n",
       "      <th>2</th>\n",
       "      <td>3</td>\n",
       "      <td>145834</td>\n",
       "      <td>211552</td>\n",
       "      <td>M</td>\n",
       "      <td>WHITE</td>\n",
       "      <td>76.526792</td>\n",
       "      <td>Medicare</td>\n",
       "      <td>2101-10-20 19:08:00</td>\n",
       "      <td>HYPOTENSION</td>\n",
       "      <td>2101-10-31 13:58:00</td>\n",
       "      <td>...</td>\n",
       "      <td>0</td>\n",
       "      <td>1</td>\n",
       "      <td>0</td>\n",
       "      <td>145</td>\n",
       "      <td>3.0</td>\n",
       "      <td>145834.0</td>\n",
       "      <td>2101-10-20</td>\n",
       "      <td>NaN</td>\n",
       "      <td>ECG</td>\n",
       "      <td>Sinus rhythm\\nInferior/lateral T changes are n...</td>\n",
       "    </tr>\n",
       "    <tr>\n",
       "      <th>3</th>\n",
       "      <td>3</td>\n",
       "      <td>145834</td>\n",
       "      <td>211552</td>\n",
       "      <td>M</td>\n",
       "      <td>WHITE</td>\n",
       "      <td>76.526792</td>\n",
       "      <td>Medicare</td>\n",
       "      <td>2101-10-20 19:08:00</td>\n",
       "      <td>HYPOTENSION</td>\n",
       "      <td>2101-10-31 13:58:00</td>\n",
       "      <td>...</td>\n",
       "      <td>0</td>\n",
       "      <td>1</td>\n",
       "      <td>0</td>\n",
       "      <td>145</td>\n",
       "      <td>3.0</td>\n",
       "      <td>145834.0</td>\n",
       "      <td>2101-10-24</td>\n",
       "      <td>2101-10-24 17:00:00</td>\n",
       "      <td>Nursing/other</td>\n",
       "      <td>npn 7-7p\\n\\nneuro: Pt is alert, follows comman...</td>\n",
       "    </tr>\n",
       "    <tr>\n",
       "      <th>4</th>\n",
       "      <td>3</td>\n",
       "      <td>145834</td>\n",
       "      <td>211552</td>\n",
       "      <td>M</td>\n",
       "      <td>WHITE</td>\n",
       "      <td>76.526792</td>\n",
       "      <td>Medicare</td>\n",
       "      <td>2101-10-20 19:08:00</td>\n",
       "      <td>HYPOTENSION</td>\n",
       "      <td>2101-10-31 13:58:00</td>\n",
       "      <td>...</td>\n",
       "      <td>0</td>\n",
       "      <td>1</td>\n",
       "      <td>0</td>\n",
       "      <td>145</td>\n",
       "      <td>3.0</td>\n",
       "      <td>145834.0</td>\n",
       "      <td>2101-10-27</td>\n",
       "      <td>NaN</td>\n",
       "      <td>ECG</td>\n",
       "      <td>Sinus rhythm\\nP-R interval increased\\nLate R w...</td>\n",
       "    </tr>\n",
       "  </tbody>\n",
       "</table>\n",
       "<p>5 rows × 37 columns</p>\n",
       "</div>"
      ],
      "text/plain": [
       "   subject_id  hadm_id  icustay_id gender ethnicity        age insurance  \\\n",
       "0           3   145834      211552      M     WHITE  76.526792  Medicare   \n",
       "1           3   145834      211552      M     WHITE  76.526792  Medicare   \n",
       "2           3   145834      211552      M     WHITE  76.526792  Medicare   \n",
       "3           3   145834      211552      M     WHITE  76.526792  Medicare   \n",
       "4           3   145834      211552      M     WHITE  76.526792  Medicare   \n",
       "\n",
       "            admittime diagnosis_at_admission           dischtime  ...  \\\n",
       "0 2101-10-20 19:08:00            HYPOTENSION 2101-10-31 13:58:00  ...   \n",
       "1 2101-10-20 19:08:00            HYPOTENSION 2101-10-31 13:58:00  ...   \n",
       "2 2101-10-20 19:08:00            HYPOTENSION 2101-10-31 13:58:00  ...   \n",
       "3 2101-10-20 19:08:00            HYPOTENSION 2101-10-31 13:58:00  ...   \n",
       "4 2101-10-20 19:08:00            HYPOTENSION 2101-10-31 13:58:00  ...   \n",
       "\n",
       "  hospital_expire_flag  hospstay_seq  readmission_30  max_hours  SUBJECT_ID  \\\n",
       "0                    0             1               0        145         3.0   \n",
       "1                    0             1               0        145         3.0   \n",
       "2                    0             1               0        145         3.0   \n",
       "3                    0             1               0        145         3.0   \n",
       "4                    0             1               0        145         3.0   \n",
       "\n",
       "    HADM_ID   CHARTDATE            CHARTTIME       CATEGORY  \\\n",
       "0  145834.0  2101-10-23  2101-10-23 17:06:00  Nursing/other   \n",
       "1  145834.0  2101-10-20  2101-10-20 22:23:00      Radiology   \n",
       "2  145834.0  2101-10-20                  NaN            ECG   \n",
       "3  145834.0  2101-10-24  2101-10-24 17:00:00  Nursing/other   \n",
       "4  145834.0  2101-10-27                  NaN            ECG   \n",
       "\n",
       "                                                TEXT  \n",
       "0  Respiratory Care Note:\\n\\nPt received on A/C a...  \n",
       "1  [**2101-10-20**] 10:23 PM\\n CHEST (PORTABLE AP...  \n",
       "2  Sinus rhythm\\nInferior/lateral T changes are n...  \n",
       "3  npn 7-7p\\n\\nneuro: Pt is alert, follows comman...  \n",
       "4  Sinus rhythm\\nP-R interval increased\\nLate R w...  \n",
       "\n",
       "[5 rows x 37 columns]"
      ]
     },
     "execution_count": 41,
     "metadata": {},
     "output_type": "execute_result"
    }
   ],
   "source": [
    "patient_notes.head()"
   ]
  },
  {
   "cell_type": "code",
   "execution_count": 42,
   "metadata": {},
   "outputs": [
    {
     "data": {
      "text/plain": [
       "23110"
      ]
     },
     "execution_count": 42,
     "metadata": {},
     "output_type": "execute_result"
    }
   ],
   "source": [
    "patient_notes = patient_notes[patient_notes['CATEGORY']!='Discharge summary']\n",
    "patient_notes = patient_notes[~patient_notes['CHARTTIME'].isna()]\n",
    "patient_notes.shape\n",
    "patient_notes['subject_id'].nunique()"
   ]
  },
  {
   "cell_type": "code",
   "execution_count": 47,
   "metadata": {},
   "outputs": [
    {
     "data": {
      "text/plain": [
       "22911"
      ]
     },
     "execution_count": 47,
     "metadata": {},
     "output_type": "execute_result"
    }
   ],
   "source": [
    "patient_notes['clinical_note_nday'] = ((pd.to_datetime(patient_notes['CHARTTIME'])-patient_notes['intime']).dt.days)\n",
    "patient_notes = patient_notes[patient_notes['clinical_note_nday'] <  1].reset_index()\n",
    "patient_notes['subject_id'].nunique()"
   ]
  },
  {
   "cell_type": "code",
   "execution_count": 60,
   "metadata": {},
   "outputs": [
    {
     "data": {
      "text/plain": [
       "'CCUNURSING PROGRESS  NOTE11 PM - 7 AMS/P STENT TO RIGHT ICAS \" DENIES  COMPLAINTS \"O PLS SEE  CAREVIEW FLOWSHEET FOR ALL OBJ/NUMERICAL  DATAHR 50-90\\'S...SBP  GOAL > 130 SYSTOLIC ..ON LOW DOSE NEO GTT ..ABLE TO WEAN IV NEO  TO OFF AT 0600..D/T SBP > 150...LUNGS CLEARNEURO ..ALERT AND ORIENTED TIMES 3 ..WITHOUT  CHANGE IN NEURO STATUS /EXAMVOIDING QS IN  URINALSLEPT WITH AMBIENA TRANSIENT BRADYCARDIA/HYPOTENSION S/P RIGHT STENT ICA DEPLOYMENTP RESTART CARDIAC MEDS'"
      ]
     },
     "execution_count": 60,
     "metadata": {},
     "output_type": "execute_result"
    }
   ],
   "source": [
    "text = str(patient_notes['TEXT'][1000])\n",
    "text = text.replace(\"_\",\"\")\n",
    "text = text.strip()\n",
    "text = text.replace(\"\\n\",'')\n",
    "text\n"
   ]
  },
  {
   "cell_type": "code",
   "execution_count": 61,
   "metadata": {},
   "outputs": [
    {
     "data": {
      "text/html": [
       "<span class=\"tex2jax_ignore\"><div class=\"entities\" style=\"line-height: 2.5; direction: ltr\">CCUNURSING PROGRESS  NOTE11 PM - 7 AMS/P STENT TO RIGHT ICAS &quot; DENIES  COMPLAINTS &quot;O PLS SEE  CAREVIEW FLOWSHEET FOR ALL OBJ/NUMERICAL  DATAHR 50-90'S...SBP  GOAL &gt; 130 SYSTOLIC ..ON \n",
       "<mark class=\"entity\" style=\"background: #e6194B; padding: 0.45em 0.6em; margin: 0 0.25em; line-height: 1; border-radius: 0.35em;\">\n",
       "    LOW DOSE\n",
       "    <span style=\"font-size: 0.8em; font-weight: bold; line-height: 1; border-radius: 0.35em; text-transform: uppercase; vertical-align: middle; margin-left: 0.5rem\">DOSAGE</span>\n",
       "</mark>\n",
       " \n",
       "<mark class=\"entity\" style=\"background: #3cb44b; padding: 0.45em 0.6em; margin: 0 0.25em; line-height: 1; border-radius: 0.35em;\">\n",
       "    NEO\n",
       "    <span style=\"font-size: 0.8em; font-weight: bold; line-height: 1; border-radius: 0.35em; text-transform: uppercase; vertical-align: middle; margin-left: 0.5rem\">DRUG</span>\n",
       "</mark>\n",
       " \n",
       "<mark class=\"entity\" style=\"background: #f032e6; padding: 0.45em 0.6em; margin: 0 0.25em; line-height: 1; border-radius: 0.35em;\">\n",
       "    GTT\n",
       "    <span style=\"font-size: 0.8em; font-weight: bold; line-height: 1; border-radius: 0.35em; text-transform: uppercase; vertical-align: middle; margin-left: 0.5rem\">ROUTE</span>\n",
       "</mark>\n",
       " ..ABLE TO WEAN \n",
       "<mark class=\"entity\" style=\"background: #f032e6; padding: 0.45em 0.6em; margin: 0 0.25em; line-height: 1; border-radius: 0.35em;\">\n",
       "    IV\n",
       "    <span style=\"font-size: 0.8em; font-weight: bold; line-height: 1; border-radius: 0.35em; text-transform: uppercase; vertical-align: middle; margin-left: 0.5rem\">ROUTE</span>\n",
       "</mark>\n",
       " \n",
       "<mark class=\"entity\" style=\"background: #3cb44b; padding: 0.45em 0.6em; margin: 0 0.25em; line-height: 1; border-radius: 0.35em;\">\n",
       "    NEO\n",
       "    <span style=\"font-size: 0.8em; font-weight: bold; line-height: 1; border-radius: 0.35em; text-transform: uppercase; vertical-align: middle; margin-left: 0.5rem\">DRUG</span>\n",
       "</mark>\n",
       "  TO OFF AT 0600..D/T SBP &gt; 150...LUNGS CLEARNEURO ..ALERT AND ORIENTED TIMES 3 ..WITHOUT  CHANGE IN NEURO STATUS /EXAMVOIDING QS IN  URINALSLEPT WITH AMBIENA TRANSIENT BRADYCARDIA/HYPOTENSION S/P RIGHT STENT ICA DEPLOYMENTP RESTART CARDIAC MEDS</div></span>"
      ],
      "text/plain": [
       "<IPython.core.display.HTML object>"
      ]
     },
     "metadata": {},
     "output_type": "display_data"
    },
    {
     "data": {
      "text/plain": [
       "[('LOW DOSE', 'DOSAGE'),\n",
       " ('NEO', 'DRUG'),\n",
       " ('GTT', 'ROUTE'),\n",
       " ('IV', 'ROUTE'),\n",
       " ('NEO', 'DRUG')]"
      ]
     },
     "execution_count": 61,
     "metadata": {},
     "output_type": "execute_result"
    }
   ],
   "source": [
    "import spacy\n",
    "\n",
    "med7 = spacy.load(\"en_core_med7_lg\")\n",
    "\n",
    "# create distinct colours for labels\n",
    "col_dict = {}\n",
    "seven_colours = ['#e6194B', '#3cb44b', '#ffe119', '#ffd8b1', '#f58231', '#f032e6', '#42d4f4']\n",
    "for label, colour in zip(med7.pipe_labels['ner'], seven_colours):\n",
    "    col_dict[label] = colour\n",
    "\n",
    "options = {'ents': med7.pipe_labels['ner'], 'colors':col_dict}\n",
    "\n",
    "#text = 'A patient was prescribed Magnesium hydroxide 400mg/5ml suspension PO of total 30ml bid for the next 5 days.'\n",
    "#text = ' Hypertension, V-Fib rest, s/p right subclavian line placement of hydroxide.\\n\\n PORTABLE CHEST:  Comparison is made to previous films from  four hours'\n",
    "doc = med7(text)\n",
    "\n",
    "spacy.displacy.render(doc, style='ent', jupyter=True, options=options)\n",
    "\n",
    "[(ent.text, ent.label_) for ent in doc.ents]"
   ]
  },
  {
   "cell_type": "code",
   "execution_count": null,
   "metadata": {},
   "outputs": [],
   "source": []
  }
 ],
 "metadata": {
  "kernelspec": {
   "display_name": "cs6250-multimodal",
   "language": "python",
   "name": "python3"
  },
  "language_info": {
   "codemirror_mode": {
    "name": "ipython",
    "version": 3
   },
   "file_extension": ".py",
   "mimetype": "text/x-python",
   "name": "python",
   "nbconvert_exporter": "python",
   "pygments_lexer": "ipython3",
   "version": "3.8.10"
  }
 },
 "nbformat": 4,
 "nbformat_minor": 2
}
